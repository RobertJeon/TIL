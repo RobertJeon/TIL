{
 "cells": [
  {
   "cell_type": "markdown",
   "metadata": {},
   "source": [
    "# Shell\n",
    "> a command-line interpreter program\n",
    "\n",
    "\n",
    "Hardware <-> OS kernel <-> Shell <-> Utility"
   ]
  },
  {
   "cell_type": "markdown",
   "metadata": {},
   "source": [
    "참고 : [쉘의 종류](https://soopeach.tistory.com/244)"
   ]
  },
  {
   "cell_type": "markdown",
   "metadata": {},
   "source": [
    "# 작업(Job)\n",
    "> 쉘을 관리하는 프로세스\n",
    "1. foreground : 실행부터 종료까지 터미널 화면을 사용해서 동작하는 것\n",
    "2. background : 터미널 화면을 사용하지 않고 실행 되는 것\n",
    "    - `&`를 넣고 돌리면 백그라운드에서 진행\n",
    "3. stopped"
   ]
  },
  {
   "cell_type": "markdown",
   "metadata": {},
   "source": [
    "# Archivies\n",
    "> 사전적 의미 => 기록 보관소\\\n",
    "> 리눅스에서 의미하는 아카이브는 여러 개의 파일 또는 디렉토리를 하나의 파일로 묶는 것\n",
    "\n",
    "- Q. 왜 필요한가?\n",
    "    - 파일의 이동, 공유 저장을 쉽게 하기 위해서\n",
    "\n",
    "> 압축과 아카이브는 엄연히 다름"
   ]
  },
  {
   "cell_type": "markdown",
   "metadata": {},
   "source": [
    "### Archiving tool\n",
    "\n",
    "- `tar`\n",
    "- `jar`"
   ]
  },
  {
   "cell_type": "markdown",
   "metadata": {},
   "source": [
    "# 압축 및 압축해제\n",
    "> 파일을 압축하는 이유?\n",
    "> - 파일 전송시 트래픽을 줄이기 위해\n",
    "- zip파일은 아카이브와 압축이 합쳐진 것"
   ]
  },
  {
   "cell_type": "markdown",
   "metadata": {},
   "source": [
    "# 사용자 및 그룹 관리\n",
    "> 사용자란? 시스템과 사람을 이어주는 것"
   ]
  },
  {
   "cell_type": "markdown",
   "metadata": {},
   "source": [
    "### 그룹\n",
    "- `공통의 목적`을 가진 사용자가 모인 집합\n",
    "- 파일의 권한을 공유해야 할 때 사용\n",
    "- 모든 사용자는 최소 하나의 그룹에는 반드시 소속되어야 함.\n",
    "> 루트계정의 경우 원격에서 접근할 수 없도록 한다."
   ]
  },
  {
   "cell_type": "markdown",
   "metadata": {},
   "source": [
    "Q. 계정 생성시 1000번부터 부여되는 이유는?\n",
    "- 3자리 숫자는 이미 예약되어 있어서 사용자의 경우 1000번부터 부여됨."
   ]
  },
  {
   "cell_type": "markdown",
   "metadata": {},
   "source": []
  },
  {
   "cell_type": "markdown",
   "metadata": {},
   "source": []
  },
  {
   "cell_type": "markdown",
   "metadata": {},
   "source": []
  },
  {
   "cell_type": "markdown",
   "metadata": {},
   "source": []
  }
 ],
 "metadata": {
  "language_info": {
   "name": "python"
  }
 },
 "nbformat": 4,
 "nbformat_minor": 2
}
