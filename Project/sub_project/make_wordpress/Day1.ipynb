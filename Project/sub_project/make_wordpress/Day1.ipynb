{
 "cells": [
  {
   "cell_type": "markdown",
   "metadata": {},
   "source": [
    "# DB 서버 구축"
   ]
  },
  {
   "cell_type": "markdown",
   "metadata": {},
   "source": [
    "### 패키지 설치\n",
    "\n",
    "```\n",
    "dnf -y install mariadb-server\n",
    "\n",
    "systemctl enable mariadb.service --now\n",
    "\n",
    "mysql_secure_installation\n",
    "```\n"
   ]
  },
  {
   "cell_type": "markdown",
   "metadata": {},
   "source": [
    "db 구축\n",
    "\n",
    "```\n",
    "mysql -u root -p\n",
    "\n",
    "CREATE DATABASE wpdb;\n",
    "\n",
    "CREATE USER wpdbuser@localhost IDENTIFIED BY '1';\n",
    "\n",
    "```"
   ]
  },
  {
   "cell_type": "markdown",
   "metadata": {},
   "source": [
    "권한 부여\n",
    "\n",
    "```\n",
    "GRANT ALL ON wpdb* TO wpdbuser@'%';\n",
    "\n",
    "FLUSH PRIVILEGES;\n",
    "```"
   ]
  },
  {
   "cell_type": "markdown",
   "metadata": {},
   "source": []
  },
  {
   "cell_type": "markdown",
   "metadata": {},
   "source": [
    "# Web 서버 구축"
   ]
  },
  {
   "cell_type": "markdown",
   "metadata": {},
   "source": [
    "Apache 설정\n",
    "\n",
    "```\n",
    "dnf -y install httpd\n",
    "\n",
    "rpm -qa | grep httpd\n",
    "\n",
    "systemctl enable httpd --now\n",
    "```"
   ]
  },
  {
   "cell_type": "markdown",
   "metadata": {},
   "source": [
    "방화벽 설정\n",
    "\n",
    "```\n",
    "systemctl start firewalld\n",
    "\n",
    "firewall-cmd --add service=http --permanent\n",
    "\n",
    "firewall-cmd --reload\n",
    "```"
   ]
  },
  {
   "cell_type": "markdown",
   "metadata": {},
   "source": [
    "php 설치\n",
    "\n",
    "```\n",
    "dnf module list php\n",
    "\n",
    "dnf module enable php:8.1\n",
    "\n",
    "dnf -y isntall php\n",
    "\n",
    "php -v\n",
    "```"
   ]
  },
  {
   "cell_type": "markdown",
   "metadata": {},
   "source": [
    "```\n",
    "vim /var/www/html/phpinfo.php\n",
    "\n",
    "\n",
    "# vim 내부\n",
    "\n",
    "<?php phpinfo();?>\n",
    "```"
   ]
  },
  {
   "cell_type": "markdown",
   "metadata": {},
   "source": [
    "관련 패키지 설치하기\n",
    "\n",
    "```\n",
    "dnf install php-gd php-soap php-intl php-mysqlnd .....\n",
    "```"
   ]
  },
  {
   "cell_type": "markdown",
   "metadata": {},
   "source": [
    "apache & php 환경 구성 및 구동\n",
    "\n",
    "```\n",
    "vim /etc/httpd/conf/httpd.conf\n",
    "\n",
    "\n",
    "169 line - index.php 추가\n",
    "\n",
    "290 line - AddType application/xhttpd-php .php\n",
    "291 line - AddType application/xhttpd-phps .phps\n",
    "```"
   ]
  },
  {
   "cell_type": "markdown",
   "metadata": {},
   "source": [
    "```\n",
    "vim /etc/php-fpm.d/www.conf\n",
    "\n",
    "56 line - 주석 해제 및 apache 추가\n",
    "```"
   ]
  },
  {
   "cell_type": "markdown",
   "metadata": {},
   "source": [
    "```\n",
    "systemctl restart httpd\n",
    "\n",
    "systemctl enable php-fpm --now\n",
    "```"
   ]
  },
  {
   "cell_type": "markdown",
   "metadata": {},
   "source": [
    "php 적용 확인\n",
    "\n",
    "```\n",
    "vi /var/www/html/phpinfo.php\n",
    "```"
   ]
  },
  {
   "cell_type": "markdown",
   "metadata": {},
   "source": [
    "### 워드프레스 다운 받기\n",
    "\n",
    "```\n",
    "wget https://wordpress.org/latest.tar.gz -O wordpress.tar.gz\n",
    "\n",
    "tar xf wordpress.tar.gz -C /var/www/html\n",
    "\n",
    "압축해제 확인\n",
    "ls /var/www/html/\n",
    "\n",
    "권한 부여하기\n",
    "chown -R apache:apache /var/www/html/wordpress/\n",
    "\n",
    "chmod -R 755 /var/www/html/wordpress/\n",
    "\n",
    "```"
   ]
  },
  {
   "cell_type": "markdown",
   "metadata": {},
   "source": [
    "템플릿 복제하기\n",
    "\n",
    "```\n",
    "cp -a wp-config-sample.php wp-config.php\n",
    "\n",
    "ls -l wp-config.php\n",
    "\n",
    "vim wp-config.php\n",
    "\n",
    "DB_NAME : wpdb\n",
    "\n",
    "DB_USER : wpdbuser\n",
    "\n",
    "DB_PASSWORD : 1\n",
    "\n",
    "DB_HOST : 192.168.56.150\n",
    "```"
   ]
  },
  {
   "cell_type": "markdown",
   "metadata": {},
   "source": []
  },
  {
   "cell_type": "markdown",
   "metadata": {},
   "source": [
    "# DNS 서버 구축\n",
    "\n",
    "패키지 설치\n",
    "\n",
    "```\n",
    "dnf -y install bind\n",
    "\n",
    "systemctl enable named.service --now\n",
    "```"
   ]
  },
  {
   "cell_type": "markdown",
   "metadata": {},
   "source": []
  }
 ],
 "metadata": {
  "language_info": {
   "name": "python"
  }
 },
 "nbformat": 4,
 "nbformat_minor": 2
}
