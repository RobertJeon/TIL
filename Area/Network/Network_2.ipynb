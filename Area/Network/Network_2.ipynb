{
 "cells": [
  {
   "cell_type": "markdown",
   "metadata": {},
   "source": [
    "# Hub, Switch And Router"
   ]
  },
  {
   "cell_type": "markdown",
   "metadata": {},
   "source": [
    "> Hub = Multiport Repeater\n",
    "\n",
    "- Repeater\n",
    "    - 수신된 신호를 `증폭`한 후 다음 구간으로 `재전송`하는 장치\n",
    "    - 여러 대의 리피터를 사용한다면 먼 거리까지 데이터 전달 가능"
   ]
  },
  {
   "cell_type": "markdown",
   "metadata": {},
   "source": [
    "> Q. 리피터를 늘린다면 우리는 깨끗하게 사용이 가능할까?\\\n",
    "A. No\n",
    "- 1:1 네트워크 환경에서 참여를 원하는 사람의 수 증가\n",
    "- 이러한 커넥터를 리피터 안에 넣으면 어떻게 될까?\n",
    "- 멀티포트 리피터 등장\n",
    "    - 포트가 여러 개 달려있는 장비\n",
    "    - 랜카드가 설치된 각각의 pc들은 케이블을 타고 이`허브`로 연결\n",
    "    - 허브 = 커넥터 + 리피터\n",
    "\n",
    "같은 허브에 연결된 모든 pc들은 서로 간에 통신이 가능\\\n",
    "같은 허브에 연결된 모든 pc들은 콜리전 도메인을 공유\n",
    "- 같은 허브에 연결되어 있으면 csma와 같은 원리\\\n",
    "허브 : 콜리전 도메인을 공유한다."
   ]
  },
  {
   "cell_type": "markdown",
   "metadata": {},
   "source": [
    "(리피터) 허브가 통신하는 방식 : csma/cd\\\n",
    "(리피터) 허브의 특징 :\n",
    "    - 리피터 허브는 연결된 `모든 기기(포트)`로 데이터를 전송(=브로드캐스트)\n",
    "- 리피터 허브 자체가 콜리전 도메인을 형성\n",
    "- 한 번에 일대일 통신만 가능 (효율적 x)"
   ]
  },
  {
   "cell_type": "markdown",
   "metadata": {},
   "source": [
    "네트워크 환경 변화\n",
    "- 네트워크 참여자(=pc의 개수) 증가 = 테이터의 양 증가\n",
    "- csma/cd 한계 발생 = 데이터 충돌 증가\n",
    "- 콜리전 발생으로 영향을 받는 노드(=pc) 증가\n",
    "- (리피터) 허브 장비의 한계 -> 새로운 장비 출현 : 브리지/스위치"
   ]
  },
  {
   "cell_type": "markdown",
   "metadata": {},
   "source": [
    "### Bridge\n",
    "> 콜리전 도메인을 작게 나누어서 데이터 충돌을 막아야해 -> 필터링 기능\n",
    "- 필터링 프레임 내의 MAC 주소를 평가하여 그 프레임을 브릿지를 통해 보낼것인지 말것인지 판단하는 기능\n",
    "- 필터링을 통해 불필요한 네트워크 간의 통신을 억제하고 결과적으로 콜리전 발생을 방지\n",
    "\n",
    "A구역 - 브릿지 - B 구역 - 브릿지 - C구역\n",
    "- 한번에 하나만 통신하던 비효율을 해결한다.\n",
    "- 영역을 쪼개서 통신한다."
   ]
  },
  {
   "cell_type": "markdown",
   "metadata": {},
   "source": [
    "### Switch\n",
    "> 데이터가 너무 많아. 더 빨라져야해! -> 스위치 등장\n",
    "\n",
    "|Bridge|Switch|\n",
    "|----|----|\n",
    "|2~4개의 포트를 제공|몇십 또는 몇백개의 포트를 제공|\n",
    "|소프트웨어 방식으로 처리 : `Slow`|하드웨어 방식으로 처리 : `Fast`|\n",
    "|`동일한 속도`만을 지원|`서로 다은 속도`를 지원|"
   ]
  },
  {
   "cell_type": "markdown",
   "metadata": {},
   "source": [
    "- Layer2 (데이터링크 계층) 장비\n",
    "    - 장비 안에 MAC 주소 테이블 존재 -> 이것을 참조하여 필터링\n",
    "    - 스위치에서는 포트별로 하나의 콜리전 도메인이 형성\n",
    "    - 특징\n",
    "        - 패킷의 목적지 주소로 지정된 디바이스로 이어지는 포트로만 패킷이 전달\n",
    "        - 불필요한 트래픽을 방지하고 통신 효율을 향상\n",
    "\n",
    "Q. 콜리전 도메인을 묶는다는 것은?\n",
    "- 포트끼리 교통정리 해주는 역할"
   ]
  },
  {
   "cell_type": "markdown",
   "metadata": {},
   "source": [
    "스위치 기능\n",
    "1. Learning\n",
    "    - MAC 주소를 학습하여 MAC 테이블에 저장\n",
    "2. Flooding\n",
    "    - 브로드캐스트를 위해 출발 주소기 포트 외의 모든 연결된 주소지 포트에 정보를 전송\n",
    "3. Forwarding\n",
    "    - 도착 주소지 포트를 정확히 알 때, 유니캐스트로 해당 주소에만 전송\n",
    "4. Filtering\n",
    "    - Forwarding과 동시에 진행되는 단계로 도착 주소지 외의 주소에 가지 않도록 걸러준다.\n",
    "5. Aging\n",
    "    - MAC 테이블의 주소는 평생 가지고 있을 순 없습니다. 기본적으로 300초 동안 들어오지 않으면 삭제합니다."
   ]
  },
  {
   "cell_type": "markdown",
   "metadata": {},
   "source": [
    "### 스위치의 프레임 처리 방식\n",
    "\n",
    "1. Store and Forward\n",
    "    - 들어오는 프레임을 전부 받아들인 후에 처리를 시작\n",
    "    - 전부 받은 후 잘 들어왔는지 에러 유무, 출발한 맥주소, 목적지 맥주소를 파악한 후 처리한다.\n",
    "    - 에러가 발견되면 프레임을 버리고 재전송을 요청하기 때문에 에러 복구 능력이 뛰어나다.\n",
    "        - 속도가 느려지는 단점이 있어 쓰지 않았으나, 현재는 하드웨어 장비의 발전으로 이전보단 속도가 빨라서 쓰기도 함.\n",
    "2. fragment-free\n",
    "    - 처음 들어오는 512비트(=64바이트/ 1바이트=8바이트) 정보만을 확인하여 충돌 발생 여부만을 확인하는 방식\n",
    "3. cut-through\n",
    "    - 들어오는 프레임의 맥 주소만 본 후 바로 전송을 시작하는 방식이다."
   ]
  },
  {
   "cell_type": "markdown",
   "metadata": {},
   "source": [
    "- 5-4-3 Rule\n",
    "    - 3개의 중계 구간, 4개의 리피터, 5개의 구간을 의미한.\n",
    "    - Max 3 Populated segments : 순수하게 데이터를 전송하기 위한 세그먼트\n",
    "    - Max 4 repeaters : 리피터는 최대 4개\n",
    "    - Max 5 segments : 네트워크 구간은 최대 5개(쉽게 설명하면 양쪽 맨 끝 사이에는 최대 케이블 5개)\n",
    "        - segement : 네트워크를 물리적으로 구분하는 단위, subnet : 네트워크를 논리적으로 구분하는 단위, 레이어에서 말하는 세그먼트와는 다른 의미"
   ]
  },
  {
   "cell_type": "markdown",
   "metadata": {},
   "source": [
    "### IPv4 헤더"
   ]
  },
  {
   "cell_type": "markdown",
   "metadata": {},
   "source": [
    "이미지 첨부예정"
   ]
  },
  {
   "cell_type": "markdown",
   "metadata": {},
   "source": []
  },
  {
   "cell_type": "markdown",
   "metadata": {},
   "source": []
  },
  {
   "cell_type": "markdown",
   "metadata": {},
   "source": []
  },
  {
   "cell_type": "markdown",
   "metadata": {},
   "source": []
  },
  {
   "cell_type": "markdown",
   "metadata": {},
   "source": []
  }
 ],
 "metadata": {
  "language_info": {
   "name": "python"
  }
 },
 "nbformat": 4,
 "nbformat_minor": 2
}
