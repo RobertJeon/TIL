{
 "cells": [
  {
   "cell_type": "markdown",
   "metadata": {},
   "source": [
    "# 네트워크"
   ]
  },
  {
   "cell_type": "markdown",
   "metadata": {},
   "source": [
    "시작하기 전에\n",
    "> Q. 클라우드란 무엇인가?\n",
    "- (기업) 인프라를 구축하는 수고를 덜고 다른 곳에서 임대하여 사용하는 것\n",
    "\n",
    "- 클라우드에는 IaaS, PaaS, SaaS가 있다.\n",
    "- 클라우드로 환경을 변경하는 주된 이유는 비용과 유지보수의 편리함이다.\n",
    "- IaC : 클라우드를 구축하기 위한 코드이다. 환경을 일일히 직접 구축하지 않고, 코드로 한번에 명령하여 빠르고 편리하게 구축을 가능하게 해준다."
   ]
  },
  {
   "cell_type": "markdown",
   "metadata": {},
   "source": [
    "> Q. 네트워크란?\n",
    "- 두 대 이상의 컴퓨터를 케이블을 통해 연결하고, 서로 자원을 공유하는 것"
   ]
  },
  {
   "cell_type": "markdown",
   "metadata": {},
   "source": [
    "### 네트워크의 종류\n",
    "- LAN, WAN, MAN\n",
    "    - wireless LAN, wireless WAN\n",
    "\n",
    "### 네트워크의 유형(type)\n",
    "> 몇 명에게 전달하시겠습니까? (= 목적지 주소가 어떻게 됩니까)\n",
    "- 유니캐스트\n",
    "    - 하나의 대상에게 전달하는 것\n",
    "- 멀티캐스트\n",
    "    - 그룹과 같은 일부에게 전달\n",
    "    - 라우터 또는 스위치에서 멀티캐스트 기능을 지원해야 가능\n",
    "- 브로드캐스트\n",
    "    - 집단 전체에게 전달하는 것\n",
    "    - 로컬 랜 상에 붙어있는 모든 네트워크 장비들에게 보내는 통신 방식\n",
    "        - 예시. 아파트 관리사무소\n",
    "    - 네트워크 최초 연결 시에 다른 기기의 주소를 모르기 때문에 모든 대상에게 신호를 보내고, 이후 주소를 저장한 테이블을 통해 구분해서 통신가능 -> 최초 1회 이후로는 브로드캐스트의 사용 빈도 거의 없음.\n",
    "        - 브로드캐스트의 경우 트래픽 많아지고, 인터럽트도 증가시킴\n",
    "\n",
    "참고 링크 : \n",
    "[유니캐스트, 브로드캐슽, 멀티캐스트](https://velog.io/@sparkbosing/%EC%9C%A0%EB%8B%88%EC%BA%90%EC%8A%A4%ED%8A%B8-%EB%B8%8C%EB%A1%9C%EB%93%9C%EC%BA%90%EC%8A%A4%ED%8A%B8-%EB%A9%80%ED%8B%B0%EC%BA%90%EC%8A%A4%ED%8A%B8)\n"
   ]
  },
  {
   "cell_type": "markdown",
   "metadata": {},
   "source": [
    "# OSI 7 Layer"
   ]
  },
  {
   "cell_type": "markdown",
   "metadata": {},
   "source": [
    "> 등장 배경 ?\n",
    "- 장비를 만드는 회사마다 프로토콜이 달라서 서로 통신이 안된다.\n",
    "> 누가 ?\n",
    "- ISO\n",
    "> 무엇을 ?\n",
    "- Open System Interconnection 7 Layer\\\n",
    "(통신이 일어나는 과정을 7단계로 세분화)\n",
    "> 결과는 ?\n",
    "- 데이터의 흐름을 한눈에 파악 가능!\n",
    "- 트러블 슈팅 할 때 편리!\n",
    "- 이기종 장비간의 통신 이상무!"
   ]
  },
  {
   "cell_type": "markdown",
   "metadata": {},
   "source": [
    "<details>\n",
    "<summary> Q.리눅스로서버를 만드는 이유는? </summary>\n",
    "<div markdown=\"1\">\n",
    "\n",
    "- 윈도우는 모든게 자동화라 트러블 슈팅시 찾기 어려움\n",
    "\n",
    "- 리눅스의 경우엔 모든것을 다 설정해주어야 해서 `장애 발싱시 확인이 쉬움.`\n",
    "\n",
    "</div>\n",
    "</details>"
   ]
  },
  {
   "cell_type": "markdown",
   "metadata": {},
   "source": [
    "### 1. 물리계층 (1계층)\n",
    "> 전기적, 기계적, 기능적인 특성을 이용해서 통신 케이블로 데이터를 전송\n",
    "- 통신 단위 : `비트`, `0`과 `1`로 전송\n",
    "- 수신처에 `'only 데이터를 전송'`(분석은 전혀 이루어지지 않는 단계)\n",
    "- 장비 (device) : 케이블, 리피터, 허브\n",
    "    - 케이블 이름의 의미\n",
    "        - ex. 10baseT\n",
    "        - `속도`, `전송방식`, `종류.최대거리` 3가지 항목을 케이블 이름에 넣음\n",
    "        - 전송 방식에는 베이스밴드, 브로드밴드 방식이 있음.\n",
    "        - T는 Twisted pair로, UTP 케이블\n",
    "            - UTP 케이블의 최대 전송 거리는 100미터\n",
    "            - 케이블의 속도가 빨라지면 전송 가능 거리는 짧아짐\n",
    "\n",
    "참고 : [근거리 통신망](https://kwongyo.tistory.com/13)"
   ]
  },
  {
   "cell_type": "markdown",
   "metadata": {},
   "source": [
    "### 2. 데이터링크 계층 (2계층)\n",
    "\n",
    "> 데이터 전송을 담당하는 계층\\\n",
    "    (1계층을 통해 송수신되는 정보의 오류와 흐름을 관리)\n",
    "- 데이터 단위 : Frame\n",
    "- 장비 : 스위치 (브리지 - 현재 스위치에 통합되었기 때문에 실사용 X)\n",
    "- 가장 최적의 경로(best path)를 찾기 위해서 맥 테이블을 생성 & 이용\n",
    "    - [mac 주소 테이블](https://velog.io/@wlsdnjs156/%EC%8A%A4%EC%9C%84%EC%B9%98%EC%99%80-MAC%EC%A3%BC%EC%86%8C-%ED%85%8C%EC%9D%B4%EB%B8%94)\n",
    "- 직접 연결된 노드 간의 통신 담당\n",
    "    - 노드 or 호스트 (각 개인의 pc를 노드라고 부름)"
   ]
  },
  {
   "cell_type": "markdown",
   "metadata": {},
   "source": [
    "- Two-sub layers of Data Link Layer\n",
    "<img src=\"https://www3.nd.edu/~mhaenggi/NET/wireless/802.11b/Data%20L1.gif\">\n",
    "- LLC (Logical Link Control) -> error message\n",
    "- MAC (Media Access Control) -> the driver's interaction\n",
    "    - logical : 변경이 가능한\n"
   ]
  },
  {
   "cell_type": "markdown",
   "metadata": {},
   "source": [
    "- 데이터링크 계층의 기능\n",
    "<img src=\"https://image.slidesharecdn.com/unit2-210710110327/75/computer-networks-unit-2-unit-ii-datalink-layer-media-access-6-2048.jpg?cb=1666174066\">\n",
    "    출처 : [Computer Networks Unit 2 UNIT II DATA-LINK LAYER & MEDIA ACCESS](https://www.slideshare.net/DrSSelvaGanesan/computer-networks-unit-2-unit-ii-datalink-layer-media-access)"
   ]
  },
  {
   "cell_type": "markdown",
   "metadata": {},
   "source": [
    "### 네트워크 계층 (3계층)\n",
    "> 상위 계층으로부터 받은 데이터를 패킷 단위로 규격화 하여 전송하고 수신하는 기능을 수행하는 단계\n",
    "- How? 스위칭과 라우팅 기능을 통해 패킷 경로를 결정\n",
    "- 호스트 간의 통신 담당 (IP)\n",
    "\n",
    "- 장비 : 라우터 / 스위치\n",
    "    - L2 스위치 : MAC 주소를 기반으로 하는 장비\n",
    "    - L3 스위치 : IP 기반의 패킷을 전송하기 위해 사용\n",
    "- 목적지 호스트로 데이터 전송\n",
    "- 네트워크 간의 최적의 경로 결정\n",
    "\n",
    "> Q. 네트워크 계층에서 어떤 일을 수행할까요?\n",
    "- Packet Creation -> Transport -> Packets Assembly\n",
    "- 패킷 전달(Packet forwarding) : 종단 간(end to end)의 패킷 전달을 수행\n",
    "- 라우팅(Routing) : 종단 간 패킷을 전송할 떄, `라우팅 프로토콜`을 기반으로 가장 효율적인 경로(best path)를 선택하여 전송\n",
    "- 논리적인 주소로 전달(logical address) : IP주소를 사용하여 사용자 데이터를 목적지 장치까지 전달"
   ]
  },
  {
   "cell_type": "markdown",
   "metadata": {},
   "source": [
    "> Q. 동일하게 데이터를 전송하는 패킷과 프레임의 차이점은 무엇인가?\n",
    "- 프레임은 2계층 영역에서의 전송 단위, 패킷은 3계층에서 전달되는 데이터의 단위\n",
    "\n",
    "- 참고 : [프레임과 패킷](https://velog.io/@wlsdnjs156/%ED%94%84%EB%A0%88%EC%9E%84Frame%EA%B3%BC-%ED%8C%A8%ED%82%B7Packet)\n"
   ]
  },
  {
   "cell_type": "markdown",
   "metadata": {},
   "source": [
    "> Q. 언제 프레임을 사용하고 언제 패킷을 사용하는가?\n",
    "\n",
    "|프레임|패킷|\n",
    "|:----:|:----:|\n",
    "|데이터링크 계층에서 사용하는 용어|네트워크 계증에서 사용하는 용어|\n",
    "|프레임 헤더 정보 : MAC <br> (디바이스 고유정보)|패킷의 헤더 정보 : IP|\n",
    "|데이터 전송의 최소 단위 <br> (Only 데이터 링크 계층에서만 사용)|데이터의 한 덩어리 <br> (모든 프로토콜에서 사용)|"
   ]
  },
  {
   "cell_type": "markdown",
   "metadata": {},
   "source": [
    "### 4. 전송계층 (4계층)\n",
    "- Application간의 통신 담당\n",
    "    - 목적지 Application으로 데이터 전송\n",
    "    - 안정적이고 신뢰할 수 있는 데이터 전송 보장(TCP) + 필수 기능만 제공(UDP)\n",
    "        - TCP : 등기\n",
    "        - UDP : 일반우편\n",
    "\n",
    "Q. 전송 계층에서는 어떤 일을 수행할까요?\n",
    "- message acknowledgement: 종단 간 데이터 통신 보장\n",
    "- message traffic control: 지연에 따른 왜곡 및 대역폭 부족 문제 해결\n",
    "- session multiplexing: 동시에 여러개의 논리적 연결을 지원\n",
    "- message segmentation: 사용자 데이터를 분할과 재조립함"
   ]
  },
  {
   "cell_type": "markdown",
   "metadata": {},
   "source": [
    "### 5. 세션 계층\n",
    "> 종단 간에 세션의 시작과 종료를 정의함.\n",
    "\n",
    "### 6. 표현 계층\n",
    "> 데이터를 어떻게 표현하는지를 정의\n",
    "\n",
    "- 응용계층에서 만들어진 데이터를 다른 모든 컴퓨터가 이해할 수 있는 형태로 변환시키는 역할을 담당\n",
    "- 인코딩 - 디코딩, 암호화 - 복호화, 압축 - 압축풀기\n",
    "\n",
    "### 7. 응용 계층\n",
    "> 사용자에게 보이는 유일한 계층\n",
    "\n",
    "- 사용자 또는 Application이 네트워크에 접근 가능하도록 만들어주는 역할(= 사용자를 위한 인터페이스를 제공)"
   ]
  },
  {
   "cell_type": "markdown",
   "metadata": {},
   "source": [
    "# OSI 프로토콜\n",
    "> 프로토콜은 컴퓨터 네트워크에서 데이터 통신을 위해 사용되는 규칙과 규약의 집합.\\\n",
    "프로토콜은 데이터의 전송방식, 데이터의 형식, 오류 검출 및 복구 방법 등을 정의하여 통신 시스템 간에 신뢰성 있는 데이터 교환을 가능하게 합니다.\\\n",
    "OSI 7 계층 모델에서 각 계층이 상호작용하기 위해 정의된 프로토콜들은 네트워크 통신의 원활한 동작과 데이터의 안전한 전송을 보장합니다."
   ]
  },
  {
   "cell_type": "markdown",
   "metadata": {},
   "source": [
    "<img src=\"https://infosys.beckhoff.com/content/1033/tf6310_tc3_tcpip/Images/png/84433547__en-US__Web.png\">\n",
    "\n",
    "참고 : [OSI model](https://infosys.beckhoff.com/english.php?content=../content/1033/tf6310_tc3_tcpip/84246923.html&id=)"
   ]
  },
  {
   "cell_type": "markdown",
   "metadata": {},
   "source": [
    "### L2 프로토콜 : 이더넷\n",
    "- 네트워크를 구축하는 방법중의 하나\\\n",
    "    -> 랜카드로부터 모든 장비들을 구성 방식에 맞게 구입해야 하므로 중요함.\n",
    "- 현재, 거의 대부분 이더넷 방식으로 네트워크를 구축함.\n",
    "- 이더넷이 사용하는 통신방식 : CSMA/CD (Carrier Sence Multiple Access/Collision Detection)\n",
    "<br>\n",
    "\n",
    "</br>\n",
    "\n",
    "> CSMA/CD (Carrier Sence Multiple Access/Collision Detection)\n",
    "- 이더넷과 같은 로컬 네트워크에서 충돌을 감지하고 처리하는 방식\n",
    "    - carrier accessible: 네트워크 상에서 통신이 일어나고 있는지 확인\n",
    "    - multiple accessible: 두 개 이상의 PC나 서버가 동시에 네트워크 상에서 데이터를 실어 보내는 경우\n",
    "    - collision: 데이터를 동시에 보내려다 부딪치는 경우\n",
    "    - collision detection: 데이터 충돌이 발생하지 않도록 확인하는 것"
   ]
  },
  {
   "cell_type": "markdown",
   "metadata": {},
   "source": [
    "### L3 프로토콜 : IP, ARP\n",
    "> IP (Internet Protocol)\n",
    "- 서로 간의 통신을 위해서 구분되는 유일무이한 주소\n",
    "- 네트워크를 통해 패킷을 전달하기 위해 만들어진 프로토콜\n",
    "- 신뢰성 없는 패킷 교환 프로토콜 -> 패킷이 상대방에게 도팍하지 않은 경우 패킷 재전송 X\n",
    "    > 공인 IP, 사설 IP\n",
    "    - 공인 IP = 전세계에서 유일한 ip 주소\n",
    "    - 사설 IP = 공유기\n",
    "\n",
    "> ARP (Address Resolution Protocol)\n",
    "- IP 주소를 MAC주소(물리적인 주소)로 바꾸기 위한 절차\n",
    "- IP를 받은 후 L2 레이어와의 정보 전송을 위해 IP주소를 MAC 주소와 매핑해주기 위한 프로토콜\n",
    "- 반대로 나갈 땐 RARP\n",
    "    - RARP (Reverse Address Resolution Protocol)\n",
    "        - RARP는 IP 주소를 MAC 주소로 변환하여 효율적인 네트워크 통신을 가능하게 합니다."
   ]
  },
  {
   "cell_type": "markdown",
   "metadata": {},
   "source": [
    "### L4 프로토콜 : TCP, UDP\n",
    "> TCP= Transmission Control Protocol\n",
    "- 신뢰성 있는 프로토콜: 데이터가 목적지에 무사히 도착하는 것을 보증\n",
    "\n",
    "> UDP= User Datagram Protocol\n",
    "- 신뢰성 없는 프로토콜: 데이터의 도달 여부 확인X\n",
    "\n",
    "> Q. TCP/IP의 탄생배경?\n",
    "- arpanet < 냉전시대에 중앙서버가 핵을 맞으면? 이라는 생각에서 시작됨.\n",
    "- 1960년대 후반 이기종 컴퓨터간의 원활한 데이터통신을 위해 미국 국방성에서 개발\n",
    "- OSI 7 Layer를 참조하여 TCP/IP 프로토콜을 생성\n",
    "- 단점 : 취약한 보안 기능 및 IP주소 부족\n",
    "- 그럼에도 불구하고, 현재 인터넷에서 사용되는 사실상의 통신 프로토콜 표준\n",
    "\n",
    "---------\n",
    "- TCP/IP 계층 모델\n",
    "    - 네트워크(1,2) / 인터넷(3) / 전송(4) / 응용(5,6,7)\n",
    "    - TCP/IP Protocol Suite\n",
    "        - ethernet, Token Ring, Frame relay, ATM / IP / TCP, UDP / HTTP, FTP, TFPT, DNS, DHCP, SMTP, Telnet\n",
    "- TCP + IP\n",
    "    - IP 신뢰성은 없지만 간략화,고속화\n",
    "    - TCP 신뢰성, 스트림형 프로토콜\n",
    "--------\n",
    "\n",
    "> OSI : 통신 프로토콜에 `필요한 기능이 무엇인지`를 중심으로 고안하여 모델화\\\n",
    "> TCP/IP : 프로토콜을 컴퓨터에 적용시키려면 `어떻게 프로그래밍`해야 좋은지를 중심으로 개발"
   ]
  },
  {
   "cell_type": "markdown",
   "metadata": {},
   "source": [
    "# IP 주소 Class\n",
    "\n",
    "> 예시\n",
    "\n",
    "|IP 주소|Class|네트워크 부분|호스트 부분|\n",
    "|:----:|:----:|:----:|:----:|\n",
    "|10.2.3.4|A|10|2.3.4|\n",
    "|132.12.13.5|B|132.12|13.5|\n",
    "|192.12.100.3|C|192.12.100|3|"
   ]
  },
  {
   "cell_type": "markdown",
   "metadata": {},
   "source": [
    "### Class A\n",
    "- 하나의 네트워크가 가질 수 있는 `호스트가 가장 많은` 수\n",
    "- 대규모 네트워크\n",
    "- 32개의 진수 중에서 맨 앞쪽에 하나가 항상 0으로 시작\\\n",
    "예시) `0`111 1111.1111 1111.1111 1111.1111 1111\n",
    "- 실제 사용 범위 : 1.0.0.0 ~ 126.0.0.0"
   ]
  },
  {
   "cell_type": "markdown",
   "metadata": {},
   "source": [
    "### Class B\n",
    "- 중규모 네트워크\n",
    "- 맨 앞이 반드시 `10`으로 시작\n",
    "- 범위 : 128.0.0.0 ~ 191.255.255.255"
   ]
  },
  {
   "cell_type": "markdown",
   "metadata": {},
   "source": [
    "### Class C\n",
    "- 소규모 네트워크\n",
    "- 맨 앞이 반드시 `110`로 시작\n",
    "- 범위 : 192.0.0.0 ~ 223.255.255.255"
   ]
  }
 ],
 "metadata": {
  "language_info": {
   "name": "python"
  }
 },
 "nbformat": 4,
 "nbformat_minor": 2
}
