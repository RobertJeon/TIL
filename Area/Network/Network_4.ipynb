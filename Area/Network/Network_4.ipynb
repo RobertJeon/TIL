{
 "cells": [
  {
   "cell_type": "markdown",
   "metadata": {},
   "source": [
    "# Router\n",
    "\n",
    "- 서로 다른 네트워크를 연결해 주는 장비\n",
    "    - 라우터는 패킷을 Forwarding하기 위해서 각 네트워크에 대한 Best path를 선출한다.\n",
    "    - 서로 다른 Network를 연결하고 Broadcast Domain을 나눈다.\n",
    "    - 특정 인터페이스를 통해 수신한 패킷의 목적지 ip 주소를 보고 목적지와 연결된 인터페이스를 통해서 전송할 것을 결정한다. -> Routing"
   ]
  },
  {
   "cell_type": "markdown",
   "metadata": {},
   "source": [
    "> 길을 찾아가기 위해서 DB가 필요함! -> 이 DB가 Routing Table\n",
    "- 경로가 여러개일 경우 Best Path만을 Routing Table에 올리고 나머지 경로들은 데이터베이스에 저장한다."
   ]
  },
  {
   "cell_type": "markdown",
   "metadata": {},
   "source": [
    "### Best Path 선출 기준 (라우팅 프로토콜)\n",
    "- Longest match\n",
    "    - subnet의 길이가 가장 긴 네트워크, 즉 보다 자세한 정보를 우선한다.\n",
    "- Adminstative distance\n",
    "    - AD 값이 작은 곳을 선택하여 우선순위를 지정한다.\n",
    "    - 하나의 라우터에 복수의 라우팅 프로토콜이 동작해서, 동일 목적지에 대해 둘 이상의 서로 다른 경로가 제시 되었을 때, 라우터가 최적의 경로(best path)를 선택하기 위해 사용하는 기능\n",
    "    - 각 라우팅 프로토콜은 관리거리(AD) 값의 도움을 받아 가장 낮은 값을 선택하여 우선순위 지정\n",
    "    - 관리 거리 값이 작을수록 프로토콜의 신뢰성이 높아진다.\n",
    "- Routing Protocol 알고리즘\n",
    "    - routung protocol마다 best-path를 선출하는 기준이다.\n",
    "    - 동적(dynamic) vs 정적(static)\n",
    "    - 프로토콜이 다르다 = 서로 정보를 볼 수 없음."
   ]
  },
  {
   "cell_type": "markdown",
   "metadata": {},
   "source": [
    "> Q. 라우터가 패킷의 목적지 주소에 대해서 서로 다른 prefix length를 가지고 있다면 같은 네트워크인가요? 다른 네트워크인가요?\n",
    "1. 10.0.3.0/28\n",
    "2. 10.0.3.0/26\n",
    "3. 10.0.3.0/27\n",
    "\n",
    "A. prefix length가 다르기 때문에 완전히 다른 네트워크\\\n",
    "-> 라우팅 테이블에서 확인 가능\\\n",
    "서브넷팅을 해서 나눠놓으면 라우터를 통해서 통신해야함! = 서로 다른 네트워크다"
   ]
  },
  {
   "cell_type": "markdown",
   "metadata": {},
   "source": [
    "> Q. 목적지 주소로 가는 최적의 경로를 선택하는 올바른 방법은?\n",
    "\n",
    "A. Prefix length가 길수록 최적의 경로\\\n",
    "-> Long subnet = Small size Network = Detail Network "
   ]
  },
  {
   "cell_type": "markdown",
   "metadata": {},
   "source": [
    "### Static vs Dynamic route\n",
    "- static은 관리자가 직접 목적지 네트워크를 입력해둠\n",
    "- dynamic은 최적의 경로를 찾아서 목적지에 도착"
   ]
  },
  {
   "cell_type": "markdown",
   "metadata": {},
   "source": [
    "### Static\n",
    "- 길을 정해주고 해당 길로만 가야한다.\\\n",
    "해당 길이 고장나거나 장애가 있어도 무조건 그 길로 간다.\n",
    "- 언제 쓰는가?\n",
    "    - 길이 하나뿐인 상황\n",
    "    - 환경변화가 거의 없는 작은 네트워크\n",
    "    - 특정 네트워크 간에만 통신을 해야할 떄\n",
    "- 대규모 네트워크에서 쓰기 어려움\n",
    "    - 관리자의 실수에 의해 장애가 발생하기 쉬워서\n",
    "\n",
    "> 장점\n",
    "- 보안이 좋다\n",
    "    - 관리자가 수동으로 설정하기 때문에 관리자가 경로를 재설정하거나 트러블슈팅이 쉽다.\n",
    "    - 네트워크 정보를 라우터간에 업데이트 하지 않기 때문에 보안 강화 및 회선의 사용량이 적다.\n",
    "    - 초기 설정 시 관리자에게 높은 수준의 기술을 요구하지 않는다.\n",
    "\n",
    "> 단점\n",
    "- 하지만 관리자에게 전체 네트워크 구조에 대한 완벽한 지식이 요구된다\n",
    "- 네트워크 장애 및 환경변화가 발생하면 대응이 느리다\n",
    "- 라우터 및 네트워크 수가 늘어남에 따라 설정 및 관리에 시간이 많이 소요된다"
   ]
  },
  {
   "cell_type": "markdown",
   "metadata": {},
   "source": [
    "### Dynamic\n",
    "- 종류\n",
    "    - Distance Vector 라우팅 프로토콜 : 순수 물리적으로 Best Path를 결정\n",
    "    - Link-State 라우팅 프로토콜 : 링크의 상태로 Best Path를 설정\n",
    "- 경로를 탐색해서 간다.\n",
    "- 길이 고장나거나 장애가 나면 다시 Best Path를 찾아감\n",
    "\n",
    "> 언제 사용하는가?\n",
    "- 대규모 네트워크 (IDC 센터 같은 곳)\n",
    "\n",
    "> 장점\n",
    "- 같은 routing protocol이 설정된 라우터끼리 정보를 교환하면서 update함\n",
    "- 라우터가 알아서 길 찾아서 가야함. -> 사람 편안 / 라우터 부담 증가\n",
    "\n",
    "> 단점\n",
    "- 보안이 약하다.\n",
    "\n",
    "- 특징\n",
    "    - Data Structures : 학습된 정보를 저장하기 위한 데이터베이스를 가지고 있다\n",
    "    - Routing Protocol message : 네트워크 정보를 상호간에 전달하기 위해 여로 타입의 메세지들을 갖고 있다.\n",
    "    - Algorithm : Best Path를 선출하기 위한 알고리즘을 갖고 있다."
   ]
  },
  {
   "cell_type": "markdown",
   "metadata": {},
   "source": [
    "# EGP vs IGP\n",
    "- 공통점\n",
    "    - IGP & EGP 둘 다 모두 나의 위치를 알려준다\n",
    "- 차이점\n",
    "    - EGP는 멀리 있는 외부에서 내부로 진입할 수 있는 경로를 알려주는 것\n",
    "    - IGP는 내부로 진입한 상태에서 좀 더 세부적인 설명을 통해 최적의 경로를 알려주는 것"
   ]
  },
  {
   "cell_type": "markdown",
   "metadata": {},
   "source": [
    "### IGP\n",
    "- 네트워크 집합을 몇 개의 그룹으로 나누었을 때, 동일 그룹 내에서 라우팅 정보를 교환할 때 사용하는 라우팅 프로토콜\n",
    "- 기업 내부에서는 IGP 프로토콜 사용\n",
    "- 내부 -> 내부\n",
    "- 가장 빠른 경로를 찾는 것이 목적"
   ]
  },
  {
   "cell_type": "markdown",
   "metadata": {},
   "source": [
    "### EGP\n",
    "- 다른 그룹과 라우팅 정보를 교환하는 프로토콜\n",
    "- 라우팅 도메인 간에는 EGP프로토콜을 사용\n",
    "- 외부 -> 내부\n",
    "- 속도보다 안정적인 통신에 집중"
   ]
  },
  {
   "cell_type": "markdown",
   "metadata": {},
   "source": []
  },
  {
   "cell_type": "markdown",
   "metadata": {},
   "source": []
  }
 ],
 "metadata": {
  "language_info": {
   "name": "python"
  }
 },
 "nbformat": 4,
 "nbformat_minor": 2
}
