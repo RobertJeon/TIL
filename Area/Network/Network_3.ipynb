{
 "cells": [
  {
   "cell_type": "markdown",
   "metadata": {},
   "source": [
    "# 서브넷 마스크\n",
    "> 대규모 네트워크 내의 작은 네트워크\n",
    "- 효율성을 위해서 서브넷이 탄생함\n",
    "    - 클래스 A 공인 네트워크를 받았을 때 대규모가 필요하지 않을때"
   ]
  },
  {
   "cell_type": "markdown",
   "metadata": {},
   "source": [
    "> Q. 서브넷 마스크를 왜 사용하는가?\n",
    "- 효율성\n",
    "    - 커다란 네트워크를 다 쓸 필요가 없다면 작은 네트워크 여러 개로 나누어 쓰기 위한 목적\n",
    "    - ip주소를 아끼기 위해\n",
    "\n",
    "> Q. 대규모 네트워크 상태일떄 서브넷으로 나누는 이유는?\n",
    "- 브로드캐스트 할 때, 너무 과도하게 사용됨. 브로드캐스트 영역이 크면 효율성이 떨어짐\n",
    "\n",
    "- 서브넷 마스크 비유\n",
    "    - 코스트코에서 큰 고기 구매(대규모 네트워크) -> 집에서 먹을만큼 잘라서 소분하기(자를 때 사용한 칼 : 서브넷)"
   ]
  },
  {
   "cell_type": "markdown",
   "metadata": {},
   "source": [
    "### 서브넷팅 계산방법\n",
    "1. 호스트를 몇 개로 나눌지\n",
    "2. 네트워크 부분은 건딜지 않고, 호스트 부분을 건드린다.\n",
    "3. 맨 앞, 맨 뒤 네트워크는 따로 빼둬야 함."
   ]
  },
  {
   "cell_type": "markdown",
   "metadata": {},
   "source": [
    "# 3 way handshake\n",
    "\n",
    "1단계. SYN\\\n",
    "2단계. SYN + ACK\\\n",
    "3단계. SYN"
   ]
  },
  {
   "cell_type": "markdown",
   "metadata": {},
   "source": [
    "# 4 way handshake\n",
    "\n",
    "1단계. FIN\\\n",
    "2단계. ACK\\\n",
    "3단계. FIN\\\n",
    "4단계. ACK"
   ]
  },
  {
   "cell_type": "markdown",
   "metadata": {},
   "source": [
    "# VLAN\n",
    "> 물리적인 스위치인것처럼 사용하는 가상의 스위치\n",
    "- 인터페이스 : 사람과 pc가 만나는 지점(접점)\n",
    "\n",
    "- 사용하는 이유?\n",
    "    - 서로 다른 VLAN에 연결된 애들끼리 통신이 안된다.\n",
    "    - 물리적인 switch를 대신해서 VLAN으로 구역을 나눠줌\n",
    "    - VLAN으로 한 개의 switch에 연결되어 있지만 하나의 브로드캐스트 도메인에 포함되지 않고 VLAN에 연결된 각 구역마다 브로드캐스트 도메인이 바뀐다? 아무튼 브로드 캐스트 도메인이 작아짐"
   ]
  },
  {
   "cell_type": "markdown",
   "metadata": {},
   "source": []
  },
  {
   "cell_type": "markdown",
   "metadata": {},
   "source": []
  },
  {
   "cell_type": "markdown",
   "metadata": {},
   "source": []
  },
  {
   "cell_type": "markdown",
   "metadata": {},
   "source": []
  }
 ],
 "metadata": {
  "language_info": {
   "name": "python"
  }
 },
 "nbformat": 4,
 "nbformat_minor": 2
}
