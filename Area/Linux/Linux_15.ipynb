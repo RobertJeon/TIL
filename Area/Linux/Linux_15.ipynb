{
 "cells": [
  {
   "cell_type": "markdown",
   "metadata": {},
   "source": [
    "# Apache\n",
    "\n",
    "### 웹 서버\n",
    "- 웹 서비스를 제공하는 서버\n",
    "- 인터넷만 연결되어 있는 어느 곳에서든 웹서버에 방문 가능\n",
    "- 네트워크를 통해 약속된 주소로 요청시 지정된 컨텐츠를 제공\n",
    "- 기본적으로 `정적인 컨텐츠`만 제공\n",
    "- 별도의 구성 시 `동적인 컨텐츠 제공 가능`\n",
    "\n",
    "### 웹 서버의 기본적인 동작\n",
    "- 웹 브라우저로 Client가 페이지 요청\n",
    "- HTTP (Hypertext Transfer Protocol)을 사용하여 웹 브라우저와 웹 서버간 의사소통\n",
    "- Client가 페이지 요청 시 웹서버는 요청 받은 페이지를 보여줌"
   ]
  },
  {
   "cell_type": "markdown",
   "metadata": {},
   "source": [
    "<img src=\"https://sangwoo0727.github.io/assets/img/Web/20200417_1.png\" width=1000 height=400>"
   ]
  },
  {
   "cell_type": "markdown",
   "metadata": {},
   "source": [
    "### 정적 웹 서버 동작 방식\n",
    "1. 클라이언트 즉, 웹 브라우저를 통해 80번 포트로 웹 서버에 연결\n",
    "2. 사용자 문서 (index.html)를 요청\n",
    "3. 웹 서버 : 클라이언트가 요청한 파일을 시스템에서 검색\n",
    "4. 웹 서버 : 요청한 파일을 읽음\n",
    "5. 웹 서버 : 파일을 클라이언트으 웹 브라우저에게 제공"
   ]
  },
  {
   "cell_type": "markdown",
   "metadata": {},
   "source": [
    "### 동적 웹 서버 동작 방식\n",
    "1. 클라이언트 즉, 웹 브라우저를 통해 80번 포트로 웹 서버에 연결\n",
    "2. 사용자 문서 동적인 페이지를 표현하는 php 프로그램 요청\n",
    "3. 웹 서버 : php 프로그램을 실행시킨 후 클라이언트가 요청한 매개변수 넘겨줌\n",
    "4. 웹 서버 : php 프로그램으로부터 생성된 결과를 읽어드림\n",
    "5. php 프로그램으로부터의 결과를 웹 서버는 클라이언트의 브라우저에 전송"
   ]
  },
  {
   "cell_type": "markdown",
   "metadata": {},
   "source": [
    "> 정적과 동적의 차이\n",
    "- 웹 서버까지 연결은 동일하나 연결 이후 차이점이 발생한다."
   ]
  },
  {
   "cell_type": "markdown",
   "metadata": {},
   "source": [
    "### Apache 설정\n",
    "1. 패키지 설치 - `dnf -y install httpd`\n",
    "2. 서비스 시작 및 활성화 \n",
    "    - `systemctl start httpd`\n",
    "    - `systemctl enable httpd`\n",
    "3. 방화벽 설정\n",
    "    - `firewall-cmd --add-service=http --permanent`\n",
    "    - `firewall-cmd --reload`"
   ]
  },
  {
   "cell_type": "markdown",
   "metadata": {},
   "source": [
    "> 주요 디렉토리\n",
    "- `/var/www/` : 웹 페이지 콘텐츠 기본 디렉토리 위치\n",
    "- `/etc/httpd/conf` : 웹 서버 주 설정 파일인 httpd.conf 파일 위치\n",
    "- `/etc/httpd/conf.modules.d/` : 웹 서버의 추가 설정 파일 위치\n",
    "- `/usr/share/httpd` : 테스트 페이지, 에러 페이지 등 기본 컨텐츠 위치\n",
    "- `/usr/share/doc/httpd` : 웹 서버 관련 문서 파일 위치"
   ]
  },
  {
   "cell_type": "markdown",
   "metadata": {},
   "source": [
    "\n",
    "- `vim /etc/httpd/conf/httpd.conf`\n",
    "    - `ServerRoot` : 구성 파일이 참조 되어있는 위치\n",
    "    - `Listen` : http 서비스를 사용하기 위해서 준비시킬 포트 번호 (중복사용 x)\n",
    "    - `Include conf.modules.d/*.conf` : 모듈 관련 파일 구성\n",
    "    - `User`, `Group` : wheel처럼 모든 권한을 가지고 있는 시스템 유저,그룹\n",
    "    - `ServerAdmin` : 해당 Apache에 이상이 생겼을 때 메일을 보낼 관리자 메일주소\n",
    "    - `<Directory> AllowOverride none Require all denied </Directory>` : 해당 디렉토리에 대한 구성 지시문 루트에 막 접근하면 안되니까 none으로 되어있음"
   ]
  },
  {
   "cell_type": "markdown",
   "metadata": {},
   "source": [
    "> ApacheOveride\n",
    "\n",
    "|지시어 그룹|설명|\n",
    "|----|----|\n",
    "|None|.htaccess 파일의 모든 설정 사용|\n",
    "|All|.htaccess 파일을 무시하고 사용하지 않음|\n",
    "|AuthConfig|세션처리, TLS 설정, 인증, 권한부여 등과 관련된 지시어 그룹|\n",
    "|Fileinfo|파일처리 및 문서 유형(MIME) 등과 관련된 지시어 그룹|\n",
    "|Indexes|자동 디렉토리 인덱스 생성과 관련된 지시어 그룹|\n",
    "|Limit|호스트 접근제어 설정과 관련된 지시어 그룹|\n",
    "|Options|특정 디렉토리에 대한 제어 옵션 등과 관련된 지시어 그룹|"
   ]
  },
  {
   "cell_type": "markdown",
   "metadata": {},
   "source": [
    "> Require\n",
    "\n",
    "|공급자|설명|\n",
    "|---|---|\n",
    "|Require all granted|무조건 액세스 허용|\n",
    "|Require all denied|무조건 엑세스 차단|\n",
    "|Require env [env-var]...|환경 변수 설정에 따른 액세스 허용|\n",
    "|Require method http-method|지정된 HTTP 메소드 사용 시 액세스 허용|\n",
    "|Require expr [expression]|조건문의 결과에 따라 액세스 허용|\n",
    "|Require user [userid]|지정된 사용자만 액세스 허용|\n",
    "|Require group [group-name]|지정된 그룹의 사용자만 액세스 허용|\n",
    "|Require valid-user|모든 유효한 사용자의 액세스 허용|\n",
    "|Require ip [ip]|지정된 IP에서만 액세스 허용|"
   ]
  },
  {
   "cell_type": "markdown",
   "metadata": {},
   "source": []
  },
  {
   "cell_type": "markdown",
   "metadata": {},
   "source": [
    "# https"
   ]
  },
  {
   "cell_type": "markdown",
   "metadata": {},
   "source": [
    "- HTTP protocol의 암호화된 버전\n",
    "- 클라이언트와 서버 간의 모든 커뮤니케이션을 암호화 하기 위하여 SSL 이나 TLS 을 사용\n",
    "    - SSL (Secure Socket Layer)\n",
    "        - 넷스케이프사에서 개발한 인터넷 보안 프로토콜\n",
    "    - TLS (Transport Layer Security)\n",
    "        - SSL이 표준화 되면서 바뀐 이름\n"
   ]
  },
  {
   "cell_type": "markdown",
   "metadata": {},
   "source": [
    "<img src=\"https://velog.velcdn.com/images%2Fhyseoseo%2Fpost%2F88e8a55b-9cde-4f23-9140-6f8c6da3b209%2Fimage.png\" width=600 height=400>"
   ]
  },
  {
   "cell_type": "markdown",
   "metadata": {},
   "source": [
    "1. 클라이언트 -> 서버로 랜덤 데이터와 사용 가능한 암호화 방식을 보낸다.\n",
    "2. 서버 -> 클라이언트로 랜덤 데이터, 사용할 암호화 방식과 SSL 인증서를 보낸다.\n",
    "3. 클라이언트는 서버에게 받은 인증서의 CA가 자신이 들고 있는 CA 리스트에 있는지 확인하고, 있다면 CA의 공개키로 복호화한다. 이는 곧 CA 비밀키에 의해 암호화됐다는 것이므로 인증서의 신원을 보증해준다. (공개키 암호화 방식)\n",
    "4. 클라이언트는 자기가 보낸 랜덤 데이터와 서버로부터 받은 랜덤 데이터를 조합하여 임시 키 (pre master secret key)를 만든다.\n",
    "5. 만들어진 임시 키를 인증서의 공개키로 암호화하여 서버에게 보낸다.\n",
    "6. 서버는 자신이 들고 있던 비밀키로 임시 키를 복호화한다.\n",
    "7. 이로써 클라이언트와 서버는 동일한 임시 키를 공유하게 되는데, 일련의 과정을 거쳐 master secret 값을 만들고 세션 키를 생성한다.\n",
    "8. 이렇게 만들어진 세션 키로 암호화된 데이터를 주고 받는다. (대칭키 암호화 방식)\n",
    "9. 세션이 종료되면 클라이언트와 서버 모두 세션 키를 폐기한다."
   ]
  },
  {
   "cell_type": "markdown",
   "metadata": {},
   "source": [
    "### 인증서 생성\n",
    "> 개인키 생성하기\n",
    "- 개인키 생성 -> csr 파일 생성(서명 요구) -> crt 파일 생성(인증서)\n",
    "- 개인키 생성\n",
    "    - `openssl genrsa -out keyfile명 key_length`\n",
    "        - `-out` : 키 이름 지정\n",
    "        - `key_length`\n",
    "            - 키의 길이 지정\n",
    "            - 기본값 512\n",
    "                - 512 / 768 / 1024 / 2048"
   ]
  },
  {
   "cell_type": "markdown",
   "metadata": {},
   "source": [
    "> CSR 생성\n",
    "- CSR(Certificate Signing Request)은 서버 인증서를 발급받기 위해 필요한 서명 요구\n",
    "- CSR에는 사용자의 정보를 입력해야 함\n",
    "- CA(Certificate Authority)로부터 인증서를 발급받으려면 이 CSR을 작성하고 제출해야 서명된 인증서를 발급받을 수 있음\n",
    "- CA의 인증이 필요하지 않으면 자필 서명 인증서(Self-Signed Certificate)를 생성하여 사용할 수 있음\n",
    "- `openssl req -new -key 생성_keyfile -out csr파일명`"
   ]
  },
  {
   "cell_type": "markdown",
   "metadata": {},
   "source": [
    "> CRT 생성\n",
    "- CRT는 인증서(Certificate)를 나타내는 CERT의 약자로 인증서는 시스템에서 ID를 확인하고 이후에 Secure Sockets Layer/전송 계층 보안(SSL/TLS) 프로토콜을 사용하여 다른 시스템에 대한 암호화된 네트워크 연결을 설정할 수 있도록 하는 디지털 객체임\n",
    "- 인증서는 퍼블릭 키 인프라(PKI)로 알려진 암호화 시스템 내에서 사용함\n",
    "- 양쪽 모두가 인증 기관으로 알려진 타사를 신뢰하는 경우, PKI는 한쪽에서 인증서를 사용하여 다른 쪽의 자격 증명을 설정할 수 있는 방법을 제공\n",
    "- 인증서는 네트워크 통신을 보호하고 인터넷을 통한 웹 사이트 및 프라이빗 네트워크의 리소스에 대한 아이덴티티를 설정하는 역할을 함\n",
    "- `openssl x509 -req -signkey 생성_keyfile -in 생성_csr파일명 -out crt_파일명`"
   ]
  },
  {
   "cell_type": "markdown",
   "metadata": {},
   "source": [
    "## SSL/TLS 설정\n",
    "- Apache 웹 서버에서 HTTPS를 사용하기 위해서는 SSL/TLSfmf 지원하는 모듈이 필요\n",
    "- mod_ssl 패키지 설치\n",
    "    - `dnf -y install mod_ssl`\n",
    "- 패키지를 설치하게 되면 SSL/TLS 관련 설정을 저장하고 있는 `/etc/httpd/conf.d/ssl.conf` 파일 생성 및 설정 변환해줌"
   ]
  },
  {
   "cell_type": "markdown",
   "metadata": {},
   "source": [
    "> https 리다이렉트\n",
    "- 도메인을 연동할 때 실제 사용자가 접속하는 페이지라면 보안 상 SSL 인증서를 설치하고 https로 접속을 해야 하는데 이때 같은 도메인으로 http로 접속하는 경우 https로 자동으로 접속이 되도록 설정을 해주는 것"
   ]
  },
  {
   "cell_type": "markdown",
   "metadata": {},
   "source": []
  },
  {
   "cell_type": "markdown",
   "metadata": {},
   "source": []
  },
  {
   "cell_type": "markdown",
   "metadata": {},
   "source": []
  }
 ],
 "metadata": {
  "kernelspec": {
   "display_name": "TIL",
   "language": "python",
   "name": "python3"
  },
  "language_info": {
   "codemirror_mode": {
    "name": "ipython",
    "version": 3
   },
   "file_extension": ".py",
   "mimetype": "text/x-python",
   "name": "python",
   "nbconvert_exporter": "python",
   "pygments_lexer": "ipython3",
   "version": "3.8.18"
  }
 },
 "nbformat": 4,
 "nbformat_minor": 2
}
