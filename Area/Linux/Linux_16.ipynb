{
 "cells": [
  {
   "cell_type": "markdown",
   "metadata": {},
   "source": [
    "# 관계형 데이터 베이스\n",
    "- 통합하여 관리되는 데이터의 집합체\n",
    "- 중복된 데이터 최소화, 자료 구조화, 효율적인 처리를 할 수 있도록 관리\n",
    "- 데이터 베이스 정의\n",
    "    - 통합된 데이터 (Integrated Data)\n",
    "        - 자료의 중복을 배제한 데이터 모임\n",
    "    - 저장된 데이터 (Stored Data)\n",
    "        - 컴퓨터가 접근할 수 있는 저장 매체에 저장된 자료\n",
    "    - 운영 데이터 (Operational Data)\n",
    "        - 조직의 고유한 업무를 수행하는 데 존재 가치가 확실하고 없어서는 안되는 반드시 필요한 자료\n",
    "    - 공용 데이터 (Shared Data)\n",
    "        - 여러 응용 시스템들이 공동으로 소유하고 유지하는 자료"
   ]
  },
  {
   "cell_type": "markdown",
   "metadata": {},
   "source": [
    "- 데이터 베이스 특징\n",
    "    - 실시간 접근성\n",
    "        - 수시적이고 비정형적인 질의에 대해 실시간 처리에 의한 응답 가능\n",
    "    - 계속적인 변화\n",
    "        - 새로운 데이터의 삽입, 삭제, 갱신으로 항상 최신 데이터 유지\n",
    "    - 동시공용\n",
    "        - 다수의 사용자가 동시에 같은 내용의 데이터 이용\n",
    "    - 내용에 의한 참조\n",
    "        - 데이터베이스에 있는 데이터를 참조할 떄 데이터 레코드의 주소나 위치에 의해서가 아니라, 사용자가 요구하는 데이터 내용으로 데이터를 찾음\n",
    "    - 데이터 독립성\n",
    "        - 응용 프로그램과 데이터베이스를 독립, 데이터의 논리적 구조를 변경시켜도 응용 프로그램은 변경 X"
   ]
  },
  {
   "cell_type": "markdown",
   "metadata": {},
   "source": [
    "<img src=\"https://img1.daumcdn.net/thumb/R1280x0/?scode=mtistory2&fname=https%3A%2F%2Ft1.daumcdn.net%2Fcfile%2Ftistory%2F992ECA335BE148210D\">\n",
    "\n",
    "https://ppiyo5.tistory.com/11"
   ]
  },
  {
   "cell_type": "markdown",
   "metadata": {},
   "source": [
    "- 데이터 베이스 용어\n",
    "    - 엔티티 (Entity)\n",
    "        - 사람, 장소, 사물, 사건 등과 같이 독립적으로 존재하면서 고유하게 식별이 가능한 실세계의 객체. (ex) 과목 코드가 F035 인 자료구조 등.\n",
    "    - 엔티티 집합 (Entity Set)\n",
    "        - 동일한 속성을 가진 엔티티들의 집합, 엔티티 집합에 속한 요소들이 여러 엔티티 집합에 속할 수도 있음.\n",
    "    - 스키마 (Schema)\n",
    "        - 데이터 베이스의 구조를 전반적으로 기술한 것.\n",
    "        - 구체적으로 데이터 베이스를 구성하는 데이터 개체 (Entity), 속성 (Attribute), 관계 (Relationship) 등을 정의 한 것\n",
    "        - DBMS는 외부 스키마에 명세된 사용자의 요구를 개념 스키마 형태로 변환하고, 이를 다시 내부 스키마 형태로 반환\n",
    "    - Key\n",
    "        - 데이터베이스에서 조건에 만족하는 튜플을 찾거나 순서대로 정렬할 때 튜플들을 서로 구분할 수 있는 기준이 되는 어트리뷰트\n",
    "        - 후보키 (Candidate Key)\n",
    "            - 릴레이션을 구성하는 속성들 중에서 튜플을 유일하게 식별하기 위해 사용하는 속성들의 부분집합\n",
    "            - 기본 키로 사용할 수 있는 속성들을 의미\n",
    "            - 모든 릴레이션에는 반드시 하나 이상의 후보키가 존재\n",
    "            - 유일성과 최소성을 만족시켜야 함.\n",
    "        - 기본키 (Primary Key)\n",
    "            - 후보키 중에서 선택한 Main Key\n",
    "            - 한 릴레이션에서 특정 튜플을 유일하게 구별할 수 있는 속성\n",
    "            - NULL 값을 가질 수 없음\n",
    "            - 동일한 값이 중복되어 저장될 수 없음\n",
    "        - 슈퍼키 (Super Key)\n",
    "            - 한 릴레이션 내에 있는 속성들의 집합으로 구성된 키로서 릴레이션을 구성하는 모든 튜플들 중 슈퍼키로 구성된 속성의 집합과 동일한 값을 나타내지 않음.\n",
    "            - 릴레이션을 구성하는 모든 튜플에 대해 유일성을 만족시키지만, 최소성을 만족시키지 못함\n",
    "            - ex) 학번 + 주민번호를 사용하여 슈퍼키를 만들면 유일성은 만족하지만, 학번이나 주민번호 하나만 가지고도 다른 튜플들을 구분할 수 있으므로 최소성은 만족시키지 못함\n",
    "    - DML\n",
    "        - Data Multipulation Language (데이터 조작어)\n",
    "        - 저장된 데이터를 실질적으로 처리하는데 사용하는 언어. 데이터베이스의 생성 및 변경, 제거\n",
    "    - DDL\n",
    "        - Data Definition Language (데이터 정의어)\n",
    "        - 데이터베이스를 정의하는 언어, 데이터베이스 안의 값들을 변경,수정,입력\n",
    "    - DCL\n",
    "        - Data Control Language (데이터 제의어)\n",
    "        - 데이터베이스에 접근하거나 객체에 권한을 주는 역할. 데이터베이스의 접속 권한 등을 수정."
   ]
  },
  {
   "cell_type": "markdown",
   "metadata": {},
   "source": [
    "### 데이터베이스 관리 시스템 (DBMS, DataBase Management System)\n",
    "- 다수의 사용자들이 데이터베이스 내의 데이터에 접근할 수 있도록 하는 소프트웨어\n",
    "    - 기존 파일 시스템이 갖는 데이터의 종속성과 중복성의 문제를 해결하기 위해 제안된 시스템\n",
    "    - 데이터베이스의 구성,접근방법,유지관리에 대한 모든 책임을 가짐\n",
    "- DBMS의 종류\n",
    "    - 계층형 데이터베이스 (HDBMS)\n",
    "        - 폴더와 파일 등의 계층 구조로 데이터를 저장하는 방식\n",
    "        - 데이터의 관계를 트리 구조로 정의, 부모-자식 형태를 가짐\n",
    "        - 종류\n",
    "            - 하드디스크, DVD 파일 시스템 등\n",
    "        - 장점\n",
    "            - 데이터의 액세스 속도가 빠름\n",
    "            - 데이터의 사용량 쉽게 예측\n",
    "        - 단점\n",
    "            - 상하 종속적인 관계로 구성되어 초기 세팅 후 프로세스 수용이 어려움\n",
    "    - 네트워크형 데이터베이스 (NDBMS)\n",
    "        - 데이터 구조를 네트워크상의 노드 형태로 논리적이게 표현한 데이터 모델, 각각의 노드를 서로 대등한 관계로 구성한 시스템\n",
    "        - 장점\n",
    "            - 계층형 데이터베이스의 데이터 중복 문제 해결, 상하 종속적 관계 해결\n",
    "        - 단점\n",
    "            - 추후 변경 시 복잡한 구조로 인해 변경이 어려움\n",
    "            - 데이터 종속성을 해결하지 못함\n",
    "    - 관계형 데이터베이스 (RDBMS)\n",
    "        - 행(Row)과 열(Column)을 가지는 표 형식 데이터를 저장하는 형태의 데이터베이스\n",
    "            - SQL을 이용하여 관리 및 접근\n",
    "            - 관계 대수(Relational Algebra)에서 착안하여 만들어 짐\n",
    "        - 장점\n",
    "            - 다양한 용도로 사용 가능(범용성), 높은 성능\n",
    "            - 데이터 무결성 보장, 높은 신뢰성\n",
    "            - 명확한 (= 엄격한) 스키마 정의\n",
    "            - 정규화에 따른 갱신 비용 최소화\n",
    "            - 데이터의 분류, 정렬, 탐색 속도가 빠름\n",
    "            - 관계를 통해 각 데이터를 중복없이 한 번만 저장\n",
    "        - 단점\n",
    "            - 대량의 데이터 입력 처리\n",
    "            - 갱신이 발생한 테이블의 인덱스 생성 및 스키마 변경\n",
    "            - 컬럼 확장 어려움 -> 유연성 부족\n",
    "            - 데이터베이스 부하 분석이 어려움\n",
    "            - 수평 확장의 어려움 -> 데이터베이스 저장 방식으로 인해 수직 확장만 지원\n",
    "    - 객체지향 데이터베이스 (ODBMS)\n",
    "        - 객체 그대로를 데이터베이스의 데이터에 저장하는 것\n",
    "            - 멀티미디어 데이터의 원활한 처리\n",
    "            - RDBMS의 비지니스형 데이터 타입만 처리되는 제한적 극복\n",
    "    - NoSQL (Not Only SQL)\n",
    "        - 키(Key) - 값(Value)의 형태로 저장되는 데이터베이스, 키를 사용해 데이터 관리 및 접근\n",
    "            - 스키마 없음, 관계 없음\n",
    "            - Join이 존재하지 않고 데이터를 가져올 때, 컬렉션에 있는 데이터를 복제하여 필요한 데이터의 일부만 가져옴\n",
    "            - 정확한 데이터 요구사항을 알 수 없거나 관계를 맺는 데이터가 자주 변경될 때 사용\n",
    "            - 읽기를 자주 하지만 데이터를 자주 변경하지 않는 경우 사용\n",
    "        - 장점\n",
    "            - 높은 유연성(스키마 X) -> 저장된 데이터를 조정하고 새로운 필드 추가 가능\n",
    "            - 애플리케이션에 필요한 형식으로 저장 -> 데이터를 가져오는 속도가 빠름\n",
    "            - 수직 및 수평 확장 가능\n",
    "        - 단점\n",
    "            - 데이터 구조 결정이 늦어짐\n",
    "            - 복사된 데이터가 변경되면 모든 콜렉션과 문서 수정 필요\n",
    "        - RDB와 NoSQL의 차이점\n",
    "            - NoSQL은 비정형 데이터(메신저 텍스트, 음성, 이미지 등)를 다룰 수 있음\n",
    "            - 수평 확장이 가능하여 분산형 컴퓨팅(클라우드)에 적합"
   ]
  },
  {
   "cell_type": "markdown",
   "metadata": {},
   "source": [
    "# Maria DB 실습\n",
    "- `dnf -y install mariadb-server` : 패키지 설치\n",
    "- `systemctl enable mariadb.service --now` : 서비스 활성화\n",
    "- 방화벽 설정 (어제 배운내용 활용하기 `firewalld`)\n",
    "- `mysql_secure_installation`\n",
    "    - `Enter current password for root (enter for none)` : 현재 root 계정의 패스워드를 입력, 초기값은 설정되지 않았기 때문에 Enter 입력\n",
    "    - `Switch to unix_socket authentication [Y/n]` : 유닉스 소켓이라는 인증 방식으로 전환할 것인지 물어보는 질문\n",
    "    - `Change the root password? [Y/n]` : root password를 변경할 건지 물어보는 질문\n",
    "    - `Remove anoymous users? [Y/n]` : 익명 사용자를 제거할 건지 물어보는 질문, 만약 Y를 하면 mysql -u root로 로그인해야 됨.\\\n",
    "    n를 하면 `mysql`로도 로그인 되지만 익명 사용자가 권한을 갖는 것이기 때문에 보안상 지워주는게 좋다.\n",
    "    - `Disallow root login remotely [Y]` : localhost의 ip가 아닌 곳에서 root로 로그인이 가능하게 할 지에 대한 질문\\\n",
    "    Y를 하면 원격 로그인이 안됨.\\\n",
    "    test 용도이며 장소를 옮긴다 하면 n를 권장. 로컬에서만 사용하면 y\n",
    "    - `Remove test database and access to it? [Y/n]` : test 데이터베이스를 제거할지에 대한 질문\\\n",
    "    사용할 일이 있다면 n\n",
    "    - `Reload privilage tables now? [Y/n]` : 권한을 변경했다면 y"
   ]
  },
  {
   "cell_type": "markdown",
   "metadata": {},
   "source": [
    "`mysql -u root -p` : sql 진입"
   ]
  },
  {
   "cell_type": "markdown",
   "metadata": {},
   "source": [
    "### SQL\n",
    "- `command`는 대문자 `argument`는 소문자, 마지막엔 `;`을 넣어주자 \n",
    "\n",
    "> 사용한 명령어 순서대로 정리\n",
    "- `SHOW databases;`\n",
    "- `USE mysql;`\n",
    "- `SHOW tables;`\n",
    "- `SELECT user,host FROM user`\n",
    "- `DESCRIBE user;`\n",
    "- `SELECT user,host,password FROM user;`\n",
    "- `SELECT host,user,max_updates FROM user WHERE max_updates = 0`\n",
    "- `CREATE USER testuser@'%';`\n",
    "- `SELECT user,host FROM user WHERE host LIKE 'localhost';`\n",
    "- `CREATE TABLE user (name varchar(10),uid int, locate varchar(10), email varchar(20));`\n",
    "- `INSERT INTO user (name,uid,locate,email) VALUES ('lee',1,'seoul','lee@test.example.com');`\n",
    "- `UPDATE user SET name='Park' WHERE uid=1;`\n",
    "- `DELETE FROM user WHERE uid=2;`"
   ]
  },
  {
   "cell_type": "markdown",
   "metadata": {},
   "source": [
    "### 트랜잭션\n",
    "- 논리적으로 하나의 단위로 처리해야 하는 작업\n",
    "- 트랜잭션을 제어하는 구문(TCL)으로 수정사항을 적용/취소\n",
    "- 안정적인 데이터 수정을 위한 개념\n",
    "- 트랜잭션 종료 시점\n",
    "    - TCL/DDL/DCL 구문 등을 사용\n",
    "    - 서버와의 연결을 종료하는 경우\n",
    "- TCL 구문 : COMMIT / ROLLBACK\n",
    "- MariaDB는 기본적으로 autocommit이 활성화\n",
    "    - 사용 시 편리하지만 위험성이 높음\n",
    "    - 세션 설정(명령어) 혹은 영구 설정(파일) 변경 가능"
   ]
  },
  {
   "cell_type": "markdown",
   "metadata": {},
   "source": [
    "> 오토커밋 영구 설정하기\n",
    "- `vim /etc/my.cnf`\n",
    "- `[server] \\n autocommit=0`\n",
    "- `systemctl restart mariadb.service`\n",
    "- `mysql -u root -p`\n",
    "- `SHOW variables LIKE 'auto%';`"
   ]
  },
  {
   "cell_type": "markdown",
   "metadata": {},
   "source": [
    "- 제약조건\n",
    "    - 각 컬럼에 데이터를 입력할 때 지켜야하는 규칙\n",
    "    - NOT NULL : 값이 반드시 필요하다. (NULL을 허용하지 않음)\n",
    "    - UNIQUE : 해당 테이블에서 같은 값이 없어져야 한다. (동일한 속성에서)\n",
    "    - PRIMARY KEY : 테이블에서 각 행을 구분할 수 있는 고유 값 (NOT NULL + UNIQUE)\n",
    "    - FOREGN KEY : 다른 테이블의 특정 컬럼을 참조 (같은 값만 사용 가능)\n",
    "    - CHECK : 임의의 조건을 직접 지정하는 방식"
   ]
  },
  {
   "cell_type": "markdown",
   "metadata": {},
   "source": [
    "- 사용자 설정\n",
    "    - 사용자도 객체에 포함\n",
    "    - 사용자 생성 및 삭제 시 CREATE / DROP 구문 사용\n",
    "    - 생성 후에는 반드시 권한 설정이 필요\n",
    "    - 권한 설정은 DCL 구문 사용 (추가 : GRANT / 제거 : REMOVE)\n",
    "    - 권한 적용 시 FLUSH PRIVILEGES 구문 필요\n",
    "    - 일반적으로 데이터 베이스는 RBAC 방식의 접근제어 사용\n",
    "        - DAC : 각 사용자에 대한 접근제어\n",
    "        - MAC : 객체(프로세스) 접근제어\n",
    "        - RBAC : 역할 기반의 접근제어"
   ]
  },
  {
   "cell_type": "markdown",
   "metadata": {},
   "source": [
    "- 데이터베이스 백업\n",
    "    - 데이터베이스는 주기적인 백업이 필요\n",
    "    - 다른 시스템으로 이식 및 복구용으로 사용\n",
    "    - 물리적 백업과 논리적 백업 방식이 존재\n",
    "        - 물리적 백업\n",
    "            - 저장된 데이터와 설정파일 등을 직접 백업하는 방식\n",
    "            - 속도가 빠름\n",
    "            - 이식성이 떨어짐\n",
    "        - 논리적 백업\n",
    "            - 데이터를 논리적인 파일로 변환하고 백업하는 방식\n",
    "            - 속도가 느리며 설정까지는 백업이 안됨\n",
    "            - 이식성이 높음"
   ]
  }
 ],
 "metadata": {
  "language_info": {
   "name": "python"
  }
 },
 "nbformat": 4,
 "nbformat_minor": 2
}
