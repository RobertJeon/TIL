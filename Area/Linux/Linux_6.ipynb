{
 "cells": [
  {
   "cell_type": "markdown",
   "metadata": {},
   "source": [
    "# 디스크 관리\n",
    "> 파일 관리를 위해서 관리 (파티셔닝)\n",
    "\n",
    "- 디스크 플래서(Disk Platter)의 논리적인 구성요소\n",
    "\n",
    "|부분|내용|\n",
    "|---|---|\n",
    "|섹터(Sector)|플래터(Platter)의 가장 작은 단위입니다. 1개 섹터의 크기는 512byte입니다. 섹터는 디스크 블록으로도 알려져 있습니다.|\n",
    "|트랙(Track)|섹터가 모여 하나의 원을 구성 합니다. 트랙은 많은 수의 섹터를 가지고 있으며, 플래터 내에 여러 개의 트랙이 존재합니다. 가장 바깥쪽의 트랙은 가장 안쪽의 트랙보다 더 많은 섹터를 가지고 있습니다.|\n",
    "|실린더(Cylinder)|여러 동심 트랙에 대한 스택 구조입니다.|"
   ]
  },
  {
   "cell_type": "markdown",
   "metadata": {},
   "source": [
    "### <디스크의 구조>\n",
    "- 섹터 : 하드디스크에 물리적으로 저장하는 단위\n",
    "- 블록 : 파일시스템에서 파일이 저장되는 단위\n",
    "\n",
    "파티셔닝은 여러개의 디스크로 나눈 것처럼 사용"
   ]
  },
  {
   "cell_type": "markdown",
   "metadata": {},
   "source": [
    "### MBR(Master Boot Record)\n",
    ": 파티션이 어떻게 구성되었는지에 관한 정보가 있는 테이블\n",
    ": 드라이브 시작 부분에 예약 된 공간이 있는데 거기에 담기게 된다.\n",
    ": Boot Loader가 포함되어 있음\n",
    "\n",
    "### GPT(GUID) = globally unique identifiers\n",
    ": MBR을 서서히 대체하고 있는 표준\n",
    ": 그 내용이 지워지거나 손상되더라도 일부 데이터를 부팅하고 복구하는 것이 가능"
   ]
  },
  {
   "cell_type": "markdown",
   "metadata": {},
   "source": [
    "<img src=\"https://productkeysbuzz.co/wp-content/uploads/2019/09/Difference-between-MBR-and-GPT.png\">\n",
    "\n",
    "참고 이미지 : [MBR & GPT](https://songsiaix.tistory.com/54)\n",
    "\n",
    "물리적으로 MBR이 망가진다면 부팅이 안됨. 그래서 GPT를 통해 부팅하고 복구하기 위해 대체되는 중"
   ]
  },
  {
   "cell_type": "markdown",
   "metadata": {},
   "source": [
    "### 디스크 연결 인터페이스 방식\n",
    "- 가장 많이 쓰는 방식 : SATA\n",
    "    - 이유는?\n",
    "        - 호환성이 좋다.\n",
    "        - 핫 플러깅을 지원\n",
    "            - 핫 플러깅 : 운영중인 상태에서 자유롭게 연결/연결해제가 가능하다.\n"
   ]
  },
  {
   "cell_type": "markdown",
   "metadata": {},
   "source": [
    "`fdisk -l` : 파티션을 리스트로 보여줌\n",
    "`fdisk {디스크 예시 : /dev/sdb}` : 파티셔닝 진입\\\n",
    "이후 `command (m for help)`에서 파티셔닝 세부 옵션을 정합니다.\n",
    "\n",
    "파티션 완료 후 `partprobe`까지 해줘야 현재 상태에서 재인식이 진행됩니다."
   ]
  },
  {
   "cell_type": "markdown",
   "metadata": {},
   "source": [
    "# 파일시스템\n",
    "> 파일의 이름, 정보, 저장 공간 등을 관리하여 효율적으로 파일을 찾도록 도와주는 역할"
   ]
  },
  {
   "cell_type": "markdown",
   "metadata": {},
   "source": [
    "### 리눅스 파일시스템 유형\n",
    "1. 디스크 기반 파일시스템\n",
    "    - 하드디스크\n",
    "    - ext : 초창기에 리눅스에서 사용하려고 만든 것\n",
    "    - ext3 vs ext4\n",
    "        - journaling : 디스크에 데이터를 기록 할 때, 변경할 내용에 대한 기록(=로그)를 생성하고 이후에는 변경한 데이터의 내용을 기록하는 기능\n",
    "        - 데이터를 기록하는 중간에 오류가 발생하더라도 복구가 가능하도록 만들어 주는 것을 의미\n",
    "        - ext2에 journaling 기능이 추가된 것 : ext3\n",
    "        - ext4 : 하위 버전과 호환 가능, 파일의 조각화를 줄여줌\n",
    "2. 분산 파일시스템\n",
    "    - 공유된 자원을 내 것처럼 쓰는 것\n",
    "    - NFS : 네트워크 파일시스템\n",
    "    - SMB : (윈도우에서 사용)\n",
    "    - 네트워크를 통해 파일 시스템의 자원에 접근할 수 있도록 지원하는 파일시스템\n",
    "3. pseudo 파일시스템\n",
    "    - 메모리를 기반으로 하는 파일시스템"
   ]
  },
  {
   "cell_type": "markdown",
   "metadata": {},
   "source": [
    "* 마운트 : 물리 장치를 특정 위치의 디렉토리에 연결해주는것"
   ]
  }
 ],
 "metadata": {
  "language_info": {
   "name": "python"
  }
 },
 "nbformat": 4,
 "nbformat_minor": 2
}
