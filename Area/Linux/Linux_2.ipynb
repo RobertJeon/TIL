{
 "cells": [
  {
   "cell_type": "markdown",
   "metadata": {},
   "source": [
    "### 리눅스란?\n",
    "> 리눅스는 파일이다."
   ]
  },
  {
   "cell_type": "markdown",
   "metadata": {},
   "source": [
    "`man {명령어}` : 해당 명령어에 대한 매뉴얼\\\n",
    "python에서 `help()`와 비슷한 용도"
   ]
  },
  {
   "cell_type": "markdown",
   "metadata": {},
   "source": [
    "> Q. `drwxr-xr--. 15 user01 user01 4096 Oct 17 10:22 .`에서 `x`는?\n",
    "- 실행권한으로 `x`권한이 있어야 파일을 열고 실행할 수 있음. \n",
    "\n",
    "|read|`r`|\n",
    "|---|---|\n",
    "|write|`w`|\n",
    "|execute|`x`|"
   ]
  },
  {
   "cell_type": "markdown",
   "metadata": {},
   "source": [
    "> Q. 하드링크와 소프트링크는 무엇인가?"
   ]
  },
  {
   "cell_type": "markdown",
   "metadata": {},
   "source": [
    "> Q. 하드링크와 소프트링크는 언제 사용하는가?\n",
    "\n",
    "> Q. 리눅스에서 `-r`에서 `r`의 의미는?\n",
    "\n",
    "> Q. 메모리와 디스크는 무엇인가?\n",
    "\n",
    "> Q. inode는 무한정 생성이 가능한가?\n",
    "\n",
    "> Q. `cat` 명령어의 단점은?"
   ]
  },
  {
   "cell_type": "markdown",
   "metadata": {},
   "source": [
    "## 리눅스 명령어"
   ]
  },
  {
   "cell_type": "markdown",
   "metadata": {},
   "source": [
    "- 파일 생성 : `touch {파일명}`\n",
    "- 디렉토리 생성 : `mkdir {폴더명}`\n",
    "- 현재 작업 디렉토리 확인 : `pwd`\n",
    "- 디렉토리 내용 확인 : `ls {options} {pathname}`\n",
    "    - option 확인이 필요할 경우 : `man ls`로 확인해보기\n",
    "- 작업 디렉토리 변경 : `cd {pathname}`\n",
    "    - `{pathname}`에는 절대경로 또는 상대경로를 넣어 이동한다.\n",
    "- 텍스트 파일 출력 : `cat {filename}`\n",
    "    - 단점 : 내용이 너무 많을 경우 윗 내용이 짤리고 마지막 내용만 보일 수 있음.\n",
    "- 페이지 단위로 출력 : `more {filename}`\n",
    "- 파일의 첫 n줄 내용 확인 : `head {-n} {filename}`\n",
    "- 파일의 마지막 n줄 내용 확인 : `tail {-n} {filename}`\n",
    "- 복사 : `cp {option} {source(s)} {target}`\n",
    "- 이동 : `mv {option} {source} {target}`\n",
    "    - 이름변경 : `mv {old_filename} {new_filename}`\n",
    "- 파일 삭제 : `rm {option} {filename}`\n",
    "\n",
    "> link\n",
    "- 하드링크\n",
    "    - 생성 : `ln {source} {target}`\n",
    "    - 삭제 : `rm {hardlink}`\n",
    "- 소프트(심볼릭)링크\n",
    "    - 생성 : `ln -s {source} {target}`\n",
    "    - 삭제 : `rm {softlink}`"
   ]
  },
  {
   "cell_type": "markdown",
   "metadata": {},
   "source": [
    "### inode (index node)\n",
    "> 어떤 파일의 메타 데이터를 나타내기 위한 고유 식별자의 역할\\\n",
    "네트워크에선 헤더와 비슷함.\n",
    "\n",
    "메타데이터 : 파일의 실제 이름과 실제 내용을 제외한 모든 정보"
   ]
  },
  {
   "cell_type": "markdown",
   "metadata": {},
   "source": [
    "### 하드링크 & 소프트링크"
   ]
  },
  {
   "cell_type": "markdown",
   "metadata": {},
   "source": []
  },
  {
   "cell_type": "markdown",
   "metadata": {},
   "source": [
    "파일하나 만들어보고 원본파일로 하드링크를 만들어보고, 원본 파일을 수정하면 하드링크 열어보고 변경사항 확인해보기"
   ]
  }
 ],
 "metadata": {
  "kernelspec": {
   "display_name": "TIL",
   "language": "python",
   "name": "python3"
  },
  "language_info": {
   "name": "python",
   "version": "3.8.18"
  }
 },
 "nbformat": 4,
 "nbformat_minor": 2
}
