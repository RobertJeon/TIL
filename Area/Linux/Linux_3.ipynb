{
 "cells": [
  {
   "cell_type": "markdown",
   "metadata": {},
   "source": [
    "# 파일 및 디렉토리 검색\n",
    "> 파일 내용에서 특정 문자 또는 패턴을 검색하는 명령어에 대해 학습해봅니다.\n",
    "\n",
    "### `grep` \n",
    "> 하나 이상의 파일에서 `문자패턴을 검색`합니다.\n",
    "- `grep {option} {pattern} {filename}`"
   ]
  },
  {
   "cell_type": "markdown",
   "metadata": {},
   "source": [
    "### 정규 표현식 메타문자\n",
    "|메타 문자|용도|예제|결과|\n",
    "|:----:|----|:---:|---|\n",
    "|^|줄의 시작 지정|^solaris|solaris로 시작하는 줄|\n",
    "|$|줄의 마지막 지정|soraris$|solaris로 끝나는 줄|\n",
    "|.|한 문자 대치|s.....s|s로 시작하고, 5개의 아무문자, s로 끝남|\n",
    "|*|아무것도 없거나 여러 문자 대치|[a-z]*|소문자로 시작하는 모든 문자 또는 아무것도 없음|\n",
    "|[]|패턴 중 한 문자 대치|[Ss]olaris|solaris 또는 Solaris|\n",
    "|[^]|패턴 중 제외할 한 문자|[^a-r]olaris|첫 문자가 a에서 r까지 제외하고 s에서 z까지 오는 문자|"
   ]
  },
  {
   "cell_type": "markdown",
   "metadata": {},
   "source": [
    "`egrep` - grep의 명령어와 사용법이 동일하고, 추가로 확장 정규표현식을 지원합니다.\\\n",
    "`fgrep` - grep, egrep의 명령어와 사용법이 동일하지만, 정규표현식이나 확장 정규표현식이 무시됩니다."
   ]
  },
  {
   "cell_type": "markdown",
   "metadata": {},
   "source": [
    "### `find`\n",
    "> 파일 이름, 크기, 소유자, 시간, 종류와 같은 조건을 사용하여 검색할 수 있습니다.\\\n",
    "> `특정 디렉토리를 기준으로 하위 디렉토리를 검색해 줍니다.`\n",
    "- `find {pathname} {expression} {action}`\n",
    "\n",
    "사용시에는 경로를 어디서부터 시작할지가 중요합니다."
   ]
  },
  {
   "cell_type": "markdown",
   "metadata": {},
   "source": [
    "# vi 편집기"
   ]
  },
  {
   "cell_type": "markdown",
   "metadata": {},
   "source": [
    "vi 편집기는 명령어 기반의 텍스트 편집기이며 세 가지 모드로 구성되어 있습니다.\n",
    "- Command 모드 : 기본 모드. 텍스트의 삭제, 수정, 복사, 이동을 수행할 수 있습니다.\n",
    "- Edit 모드 : 파일에 내용을 입력할 수 있습니다.\n",
    "- Last Line 모드 : Command모드에서 콜론 기호(:)를 입력해야 접근 가능합니다."
   ]
  },
  {
   "cell_type": "markdown",
   "metadata": {},
   "source": [
    "편집기 사용 방법\n",
    "- `vi {filename}` : vi 편집기 진입\\\n",
    "`i`를 눌러 insert 상태로 진입하여 텍스트 편집 진행 -> `esc`키를 누르고 `shift`+: 입력하여 Last Line 모드에서 `wq`를 입력하고 종료하면 됩니다."
   ]
  },
  {
   "cell_type": "markdown",
   "metadata": {},
   "source": [
    "> Q. 문서 편집중 비정상 종료가 일어난다면?\n",
    "- `.{filename}.swp` 형태로 스왑파일이 생성됩니다. 백업의 성경을 띄고 있어서 매우 유용합니다.\n",
    "- 해당 파일은 swp -> swo -> swn순으로 생성되는 특징이 있습니다.\n"
   ]
  },
  {
   "cell_type": "markdown",
   "metadata": {},
   "source": [
    "# 퍼미션\n",
    "\n",
    "> 그룹 : 사용자가 속한 논리그룹\n",
    "- 그룹에 포함하거나 뺄 수 있는것\n",
    "\n",
    "> Q. ID가 있는 이유는?\n",
    "- 컴퓨터가 `유저를 구분`하기 위해서 시스템에서 부여해줍니다.\n",
    "    - 구분하는 이유는? 컴퓨터는 0과 1만 읽을 수 있으므로"
   ]
  },
  {
   "cell_type": "markdown",
   "metadata": {},
   "source": [
    "### 퍼미션의 필요성\n",
    "- 유닉스/리눅스의 모든 파일과 디렉토리는 퍼미션들의 집합으로 구성되어 있으며, 이 퍼미션들은 시스템상에 존재하는 파일들에 대한 읽기, 쓰기, 실행에 대한 접근여부를 결정해줍니다."
   ]
  },
  {
   "cell_type": "markdown",
   "metadata": {},
   "source": [
    "`ls -l` 명령어를 수행하면 다음과 같은 결과가 나옵니다.\n",
    "\n",
    "```\n",
    "-rw-r--r--  1   root    sys 1931    sep 20  2012    dacf.conf\n",
    "```\n",
    "\n",
    "위 결과에서 첫 번쨰 필드에 해당하는 부분은 해석하면 다음과 같습니다.\n",
    "\n",
    "`- : File type / rw- : User /  r-- : Group / r-- : Others`\n",
    "\n",
    "|퍼미션|문자|파일|디렉토리|\n",
    "|:---:|:--:|:--:|:----:|\n",
    "|읽기|r|파일의 내용을 확인하거나 복사 할 수 있습니다.| ls 명령을 이용하여 디렉토리 내용을 확인할 수 있습니다.|\n",
    "|쓰기|w|파일의 내용을 수정할 수 있습니다.|실행 권한이 있는 경우 디렉토리 내에 파일을 추가하거나 삭제할 수 있습니다.|\n",
    "|실행|x|실행파일의 경우 실행할 수 있습니다. 쉘 스크립트 파일의 경우 읽기와 실행 퍼미션을 가지고 있다면 실행할 수 있습니다.|cd 명령을 이용하여 디렉토리에 접근할 수 있습니다. 읽기 권한이 있다면 ls -l명령으로 디렉토리 내용을 확인 할 수 있습니다.|\n"
   ]
  },
  {
   "cell_type": "markdown",
   "metadata": {},
   "source": [
    "### 퍼미션 변경 방법\n",
    "\n",
    "1. 8진수 모드의 변경\n",
    "2. 심볼릭 모드의 변경"
   ]
  },
  {
   "cell_type": "markdown",
   "metadata": {},
   "source": [
    "### 8진수 모드의 변경 방법\n",
    "\n",
    "> 변경 명령어\n",
    "- `chmod {8진수} {filename}`\n",
    "\n",
    "- 명령 예시\n",
    "    - `chmod 744 file7`\n",
    "    - 결과 `-rwxr--r--`"
   ]
  },
  {
   "cell_type": "markdown",
   "metadata": {},
   "source": [
    "### 심볼릭 모드의 변경 방법\n",
    "> 변경 명령어\n",
    "- `chmod {mode} {filename}`\n",
    "\n",
    "> `mode` 명령 형식\n",
    "\n",
    "|who|op|permission(s)|\n",
    "|---|---|---|\n",
    "|`u` 소유자 / `g` 그룹 / `o` 기타 / `a` 모든사용자|`+` permission 추가 / `-` permissions 삭제 / `=` permissions 추가|`r` Read / `w` Write / `x` Execute| "
   ]
  },
  {
   "cell_type": "markdown",
   "metadata": {},
   "source": [
    "### 기본권한 (`umask`)\n",
    "> 파일과 디렉토리가 생성될 때는 설정된 기본 권한으로 생성되게 됩니다.\n",
    "\n",
    "- 예시\n",
    "    - `[root@localhost ~]# umask`\n",
    "    - `0022`\n",
    "    - `[user@localhost ~]$ umask`\n",
    "    - `0002`\n",
    "\n",
    "    예시와 같이 root와 user의 기본 권한이 다른 것을 확인할 수 있습니다."
   ]
  },
  {
   "cell_type": "markdown",
   "metadata": {},
   "source": [
    "사용자의 기본 권한에 따라 파일 또는 디렉토리를 생성할 때 퍼미션이 다르게 부여됩니다.\n",
    "\n",
    "- 파일 생성시 : `666`-`{사용자 기본 권한}` | 예시 : `666`-`022` = `644` 부여됨. 결과는 `-rw-r--r--`\n",
    "- 폴더 생성시 : `777`-`{사용자 기본 권한}` | 예시 : `777`-`002` = `775` 부여됨. 결과는 `-rwxrwxr-x`"
   ]
  },
  {
   "cell_type": "markdown",
   "metadata": {},
   "source": [
    "# 프로그램과 프로세스\n",
    "\n",
    "> Q. 프로그램과 프로세스의 차이?\n",
    "- 프로그램은 특정 작업을 수행하는 데 필요한 코드 집합을 포함하는 수동적 엔터티\n",
    "- 프로세스는 실행 중인 프로그램의 인스턴스\n",
    "    - 추가 보완예정\n"
   ]
  },
  {
   "cell_type": "markdown",
   "metadata": {},
   "source": [
    "### 프로세스\n",
    "\n",
    "> 프로세스는 실행된 프로그램을 뜻합니다.\n",
    "\n",
    "- 프로세스의 종류\n",
    "\n",
    "|항목|설명|\n",
    "|--|--|\n",
    "|부모프로세스(Parents Process)|다른 프로세스를 생성할 수 있는 프로세스입니다.|\n",
    "|자식프로세스(child Process)|부모 프로세스로부터 만들어지는 프로세스입니다.|\n",
    "|데몬프로세스(Daemon Process)|일반적으로 사용자가 직접 실행시키지 않고, 커널에 의해 구동되며 백그라운드에서 특정 서비스를 제공하기 위해 구동됩니다. 파일이름의 끝에 `d`를 붙여서 사용합니다.|\n",
    "|고아프로세스(Orphan Process)|자식 프로세스는 작업 종료 되면 부모 프로세스로 되돌아가는데, 되돌아가기 전에 부모 프로세스가 종료된 경우를 말하며 고아 프로세스는 init프로세스가 해당 프로세스가 종료 될 수 있도록 해줍니다.|\n",
    "|좀비프로세스(Zombie Process)|이미 종료된 프로세스지만, 리소스 반환을 하지 못한 상태로 남아 있는 프로세스입니다.|"
   ]
  },
  {
   "cell_type": "markdown",
   "metadata": {},
   "source": [
    "> Q. 프로세스를 관리하는 이유는?\n",
    "- 한정된 자원 관리를 위해"
   ]
  },
  {
   "cell_type": "markdown",
   "metadata": {},
   "source": [
    "### 프로세스 명령어\n",
    "\n",
    "- `ps`: 현재 시스템에 구동중인 프로세스의 목록을 보여주는 명령어입니다.\n",
    "- `pstree` : 부모 프로세스와 자식 프로세스 사이의 관계를 확인하기 위해 트리 형태로 출력하는 명령어\n",
    "- `top` : 시스템 활동을 실시간으로 확인할 수 있다."
   ]
  },
  {
   "cell_type": "markdown",
   "metadata": {},
   "source": [
    "### 시그널\n",
    "> 프로세스는 메모리에 존재하는 프로그램의 형태이므로 이를 관리하기 위해서 시그널을 사용합니다.\n",
    "\n",
    "|시그널 번호|시그널 이름|동작|정의|\n",
    "|--------|--------|---|---|\n",
    "|1|SIGHUP|Hang up|Hang-up 시그널은 프로세스 종료 없이 프로그램을 새로 초기화 합니다.|\n",
    "|2|SIGINT|Interrupt|Interrput 시그널은 `Ctrl`+`C`를 사용|\n",
    "|9|SIGKILL|Kill|프로세스는 kill 시그널을 무시할 수 없으며 프로세스가 종료 됩니다.|\n",
    "|15|SIGRETM|Terminate|Terminate 시그널은 프로세스를 종료합니다.|"
   ]
  },
  {
   "cell_type": "markdown",
   "metadata": {},
   "source": [
    "> SHELL : a command-line interpreter program\n",
    "- 명령어를 분석하고 OS에게 보내는 역할\n",
    "\n",
    "하드웨어 <-> Kernel <-> SHELL <-> Utilites"
   ]
  }
 ],
 "metadata": {
  "language_info": {
   "name": "python"
  }
 },
 "nbformat": 4,
 "nbformat_minor": 2
}
